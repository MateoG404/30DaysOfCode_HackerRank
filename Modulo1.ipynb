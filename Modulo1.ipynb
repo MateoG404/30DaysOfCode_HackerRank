{
  "nbformat": 4,
  "nbformat_minor": 0,
  "metadata": {
    "colab": {
      "name": "Modulo1.ipynb",
      "provenance": [],
      "authorship_tag": "ABX9TyMUcAB4fq+G9X2gBTtVNnnJ",
      "include_colab_link": true
    },
    "kernelspec": {
      "name": "python3",
      "display_name": "Python 3"
    },
    "language_info": {
      "name": "python"
    }
  },
  "cells": [
    {
      "cell_type": "markdown",
      "metadata": {
        "id": "view-in-github",
        "colab_type": "text"
      },
      "source": [
        "<a href=\"https://colab.research.google.com/github/MateoG404/30DaysOfCode_HackerRank/blob/main/Modulo1.ipynb\" target=\"_parent\"><img src=\"https://colab.research.google.com/assets/colab-badge.svg\" alt=\"Open In Colab\"/></a>"
      ]
    },
    {
      "cell_type": "markdown",
      "source": [
        "# Modulo 1 ( Análisis y Visualización de Datos con Python )\n",
        "\n"
      ],
      "metadata": {
        "id": "bvSx4jyL9j6g"
      }
    },
    {
      "cell_type": "code",
      "execution_count": null,
      "metadata": {
        "id": "UK9XsVLJ9ebX"
      },
      "outputs": [],
      "source": [
        ""
      ]
    }
  ]
}